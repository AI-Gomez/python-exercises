{
 "cells": [
  {
   "cell_type": "code",
   "execution_count": 21,
   "metadata": {},
   "outputs": [
    {
     "data": {
      "text/plain": [
       "True"
      ]
     },
     "execution_count": 21,
     "metadata": {},
     "output_type": "execute_result"
    }
   ],
   "source": [
    "#1 Define a function named is_two. It should accept one input and return \n",
    "#True if the passed input is either the number or the string 2, \n",
    "#False otherwise.\n",
    "\n",
    "def is_two(num):\n",
    "    return int(num) == 2\n",
    "is_two(2)  "
   ]
  },
  {
   "cell_type": "code",
   "execution_count": 23,
   "metadata": {},
   "outputs": [
    {
     "data": {
      "text/plain": [
       "False"
      ]
     },
     "execution_count": 23,
     "metadata": {},
     "output_type": "execute_result"
    }
   ],
   "source": [
    "#2 Define a function named is_vowel. It should return True if the \n",
    "#passed string is a vowel, False otherwise.\n",
    "def is_vowel(let):\n",
    "    vowels = 'aeiouAEIOU'\n",
    "    return let in vowels\n",
    "is_vowel('z')"
   ]
  },
  {
   "cell_type": "code",
   "execution_count": 33,
   "metadata": {},
   "outputs": [
    {
     "data": {
      "text/plain": [
       "True"
      ]
     },
     "execution_count": 33,
     "metadata": {},
     "output_type": "execute_result"
    }
   ],
   "source": [
    "#3 Define a function named is_consonant. It should return True if \n",
    "#the passed string is a consonant, False otherwise. Use your \n",
    "#is_vowel function to accomplish this.\n",
    "def is_consonant(con):\n",
    "    consonants = 'bcdfghjklmnpqrstvxzwy'\n",
    "    return con in consonants\n",
    "is_consonant('c')"
   ]
  },
  {
   "cell_type": "code",
   "execution_count": 32,
   "metadata": {},
   "outputs": [
    {
     "data": {
      "text/plain": [
       "'Bomb'"
      ]
     },
     "execution_count": 32,
     "metadata": {},
     "output_type": "execute_result"
    }
   ],
   "source": [
    "#4 Define a function that accepts a string that is a word. \n",
    "#The function should capitalize the first letter of the word \n",
    "#if the word starts with a consonant.\n",
    "def is_consonant(con):\n",
    "    consonants = 'bcdfghjklmnpqrstvxzwy'\n",
    "    return con in consonants\n",
    "\n",
    "def first_consonant(word):\n",
    "    if str(word).isdigit():\n",
    "        return(word)\n",
    "    elif is_consonant(word[0]):\n",
    "        return(word[0].upper() + word[1:])\n",
    "    else:\n",
    "        return word\n",
    "first_consonant('bomb')\n"
   ]
  },
  {
   "cell_type": "code",
   "execution_count": 64,
   "metadata": {},
   "outputs": [
    {
     "data": {
      "text/plain": [
       "15.798"
      ]
     },
     "execution_count": 64,
     "metadata": {},
     "output_type": "execute_result"
    }
   ],
   "source": [
    "#5 Define a function named calculate_tip. It should accept a \n",
    "#tip percentage (a number between 0 and 1) and the bill total, \n",
    "#and return the amount to tip.\n",
    "def calculate_tip(tip, bill):\n",
    "    return (tip * bill)\n",
    "calculate_tip(.2, 78.99)"
   ]
  },
  {
   "cell_type": "code",
   "execution_count": 4,
   "metadata": {},
   "outputs": [
    {
     "data": {
      "text/plain": [
       "38.802499999999995"
      ]
     },
     "execution_count": 4,
     "metadata": {},
     "output_type": "execute_result"
    }
   ],
   "source": [
    "#6 Define a function named apply_discount. It should accept a \n",
    "#original price, and a discount percentage, and return the \n",
    "#price after the discount is applied.\n",
    "def apply_discount(disc, orig_price):\n",
    "    return (1 - disc) * orig_price\n",
    "apply_discount(.15, 45.65)"
   ]
  },
  {
   "cell_type": "code",
   "execution_count": 14,
   "metadata": {},
   "outputs": [
    {
     "data": {
      "text/plain": [
       "'1000000000'"
      ]
     },
     "execution_count": 14,
     "metadata": {},
     "output_type": "execute_result"
    }
   ],
   "source": [
    "#7 Define a function named handle_commas. It should accept a \n",
    "#string that is a number that contains commas in it as input, \n",
    "#and return a number as output.\n",
    "def handle_commas(s):\n",
    "    s = s.replace(',', '')\n",
    "    return s\n",
    "handle_commas('1,000,000,000')"
   ]
  },
  {
   "cell_type": "code",
   "execution_count": 24,
   "metadata": {},
   "outputs": [
    {
     "name": "stdout",
     "output_type": "stream",
     "text": [
      "What was your grade?\t89\n",
      "\n",
      "You received an A\n"
     ]
    }
   ],
   "source": [
    "#8 Define a function named get_letter_grade. It should accept\n",
    "#a number and return the letter grade associated with that \n",
    "#number (A-F).\n",
    "def get_letter_grade():\n",
    "    grade = int(input(\"What was your grade?\\t\"))\n",
    "    print()\n",
    "    if grade >= 88 and grade <= 100:\n",
    "            print(\"You received an A\")\n",
    "\n",
    "    elif grade >= 80 and grade <= 87:\n",
    "            print(\"You received a B\")\n",
    "\n",
    "    elif grade >= 67 and grade <= 79:\n",
    "            print(\"You received a C\")\n",
    "\n",
    "    elif grade >= 60 and grade <= 66:\n",
    "            print(\"You received a D\")\n",
    "\n",
    "    elif grade >=0 and grade <= 59:\n",
    "            print(\"You failed with an F\")\n",
    "            return grade\n",
    "get_letter_grade()"
   ]
  },
  {
   "cell_type": "code",
   "execution_count": 27,
   "metadata": {},
   "outputs": [
    {
     "data": {
      "text/plain": [
       "'ppl'"
      ]
     },
     "execution_count": 27,
     "metadata": {},
     "output_type": "execute_result"
    }
   ],
   "source": [
    "#9 Define a function named remove_vowels that accepts a \n",
    "#string and returns a string with all the vowels removed.\n",
    "def remove_vowels(c):\n",
    "    newstr = c\n",
    "    vowels = ('a', 'e', 'i', 'o', 'u')\n",
    "    for x in c.lower():\n",
    "        if x in vowels:\n",
    "            newstr = newstr.replace(x,\"\")\n",
    "\n",
    "    return newstr\n",
    "remove_vowels('apple')"
   ]
  },
  {
   "cell_type": "code",
   "execution_count": null,
   "metadata": {},
   "outputs": [],
   "source": [
    "#10 Define a function named normalize_name. It should accept a \n",
    "#string and return a valid python identifier, that is:\n",
    "#anything that is not a valid python identifier should be removed\n",
    "#leading and trailing whitespace should be removed\n",
    "#everything should be lowercase\n",
    "#spaces should be replaced with underscores\n",
    "def normalize_name(string):\n",
    "    normalized_string = ''\n",
    "    stripped_string = string.strip()\n",
    "    if stripped_string[0].isdigit():\n",
    "        stripped_string = '_' + stripped_string\n",
    "    for letter in stripped_string:\n",
    "        if (letter.isalpha() or letter == '_') and not letter == ' ':\n",
    "            normalized_string += letter.lower()\n",
    "        elif letter.isdigit():\n",
    "            normalized_string += letter\n",
    "        elif letter == ' ':\n",
    "            normalized_string += '_'\n",
    "    return normalized_string\n",
    "    \n"
   ]
  },
  {
   "cell_type": "code",
   "execution_count": 3,
   "metadata": {},
   "outputs": [
    {
     "data": {
      "text/plain": [
       "[1, 6, 16, 72, 171]"
      ]
     },
     "execution_count": 3,
     "metadata": {},
     "output_type": "execute_result"
    }
   ],
   "source": [
    "#11 Write a function named cumulative_sum that accepts a list of \n",
    "#numbers and returns a list that is the cumulative sum of the \n",
    "#numbers in the list.\n",
    "def cumulative_sum(lists):\n",
    "    cu_list = []\n",
    "    length = len(lists)\n",
    "    cu_list = [sum(lists[0:x:1]) for x in range(0, length + 1)]\n",
    "    return cu_list[1:]\n",
    "cumulative_sum([1,5,10,56,99])"
   ]
  },
  {
   "cell_type": "code",
   "execution_count": null,
   "metadata": {},
   "outputs": [],
   "source": []
  }
 ],
 "metadata": {
  "kernelspec": {
   "display_name": "Python 3",
   "language": "python",
   "name": "python3"
  },
  "language_info": {
   "codemirror_mode": {
    "name": "ipython",
    "version": 3
   },
   "file_extension": ".py",
   "mimetype": "text/x-python",
   "name": "python",
   "nbconvert_exporter": "python",
   "pygments_lexer": "ipython3",
   "version": "3.7.6"
  }
 },
 "nbformat": 4,
 "nbformat_minor": 4
}
