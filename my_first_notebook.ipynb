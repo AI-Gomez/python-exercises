{
 "cells": [
  {
   "cell_type": "code",
   "execution_count": 1,
   "metadata": {},
   "outputs": [
    {
     "name": "stdout",
     "output_type": "stream",
     "text": [
      "to each their own\n"
     ]
    }
   ],
   "source": [
    "print ('to each their own')"
   ]
  },
  {
   "cell_type": "code",
   "execution_count": 2,
   "metadata": {},
   "outputs": [
    {
     "name": "stdout",
     "output_type": "stream",
     "text": [
      "I am the darkness that lurks in the shadows\n"
     ]
    }
   ],
   "source": [
    "message = \"I am the darkness that lurks in the shadows\"\n",
    "print (message)"
   ]
  },
  {
   "cell_type": "code",
   "execution_count": 5,
   "metadata": {},
   "outputs": [
    {
     "name": "stdout",
     "output_type": "stream",
     "text": [
      "you merely adopted the dark\n"
     ]
    }
   ],
   "source": [
    "two = \"you merely adopted the dark\"\n",
    "print (two)"
   ]
  },
  {
   "cell_type": "markdown",
   "metadata": {},
   "source": [
    "in terminal, type -jupyter notebook-"
   ]
  },
  {
   "cell_type": "markdown",
   "metadata": {},
   "source": [
    "also, -to"
   ]
  }
 ],
 "metadata": {
  "kernelspec": {
   "display_name": "Python 3",
   "language": "python",
   "name": "python3"
  },
  "language_info": {
   "codemirror_mode": {
    "name": "ipython",
    "version": 3
   },
   "file_extension": ".py",
   "mimetype": "text/x-python",
   "name": "python",
   "nbconvert_exporter": "python",
   "pygments_lexer": "ipython3",
   "version": "3.7.6"
  }
 },
 "nbformat": 4,
 "nbformat_minor": 4
}
