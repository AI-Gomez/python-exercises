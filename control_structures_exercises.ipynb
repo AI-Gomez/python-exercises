{
 "cells": [
  {
   "cell_type": "code",
   "execution_count": 2,
   "metadata": {},
   "outputs": [
    {
     "name": "stdout",
     "output_type": "stream",
     "text": [
      "What is today dummy: idk\n",
      "go home, youre drunk\n"
     ]
    }
   ],
   "source": [
    "#A) prompt the user for a day of the week, print out whether the day is Monday or not\n",
    "\n",
    "dayweek = input(\"What is today dummy: \")\n",
    "\n",
    "if dayweek == 'Monday' or dayweek == 'monday':\n",
    "    print ('Wow, suprised you knew that')\n",
    "else:\n",
    "    print ('go home, youre drunk')\n"
   ]
  },
  {
   "cell_type": "code",
   "execution_count": 5,
   "metadata": {},
   "outputs": [
    {
     "name": "stdout",
     "output_type": "stream",
     "text": [
      "What is today dummy: lol\n",
      "go home, youre drunk\n"
     ]
    }
   ],
   "source": [
    "#B) prompt the user for a day of the week, print out whether the day is a \n",
    "#weekday or a weekend\n",
    "\n",
    "dwd = input(\"What is today dummy: \")\n",
    "if dwd == 'Sunday' or dwd == 'Saturday':\n",
    "    print ('Wow, suprised you knew that... its a weekend')\n",
    "elif dwd == 'Monday' or dwd == 'Tuesday' or dwd == 'Wednesday' or dwd == 'Thursday' or dwd == 'Friday':\n",
    "    print ('yes, thats a weekday dummy')\n",
    "\n",
    "else:\n",
    "    print ('go home, youre drunk')\n",
    "    "
   ]
  },
  {
   "cell_type": "code",
   "execution_count": 29,
   "metadata": {},
   "outputs": [
    {
     "name": "stdout",
     "output_type": "stream",
     "text": [
      "I worked 98 hours last week and only made $ 15367.0\n"
     ]
    }
   ],
   "source": [
    "#C create variables and make up values for number of hours worked in one week\n",
    "#the hourly rate how much the weeks check is going to be\n",
    "#time and a half if you work more than 40hrs\n",
    "\n",
    "hrs = 98\n",
    "h= float(hrs)\n",
    "rate = float(121)\n",
    "\n",
    "if h <= 40:\n",
    "    pay = h * rate\n",
    "elif h > 40:\n",
    "    pay = ((h-40)*rate*1.5)+rate*40   \n",
    "\n",
    "print('I worked', hrs, 'hours last week and only made $', pay )\n"
   ]
  },
  {
   "cell_type": "code",
   "execution_count": 30,
   "metadata": {},
   "outputs": [
    {
     "name": "stdout",
     "output_type": "stream",
     "text": [
      "5\n",
      "6\n",
      "7\n",
      "8\n",
      "9\n",
      "10\n",
      "11\n",
      "12\n",
      "13\n",
      "14\n",
      "15\n"
     ]
    }
   ],
   "source": [
    "#2A Create an integer variable i with a value of 5.\n",
    "\n",
    "i = 5\n",
    "\n",
    "#Create a while loop that runs so long as i is less than or equal to 15\n",
    "#Each loop iteration, output the current value of i, then increment i by one.\n",
    "\n",
    "while i <= 15:\n",
    "    print(i)\n",
    "    i += 1\n",
    "    "
   ]
  },
  {
   "cell_type": "code",
   "execution_count": 31,
   "metadata": {},
   "outputs": [
    {
     "name": "stdout",
     "output_type": "stream",
     "text": [
      "0\n",
      "2\n",
      "4\n",
      "6\n",
      "8\n",
      "10\n",
      "12\n",
      "14\n",
      "16\n",
      "18\n",
      "20\n",
      "22\n",
      "24\n",
      "26\n",
      "28\n",
      "30\n",
      "32\n",
      "34\n",
      "36\n",
      "38\n",
      "40\n",
      "42\n",
      "44\n",
      "46\n",
      "48\n",
      "50\n",
      "52\n",
      "54\n",
      "56\n",
      "58\n",
      "60\n",
      "62\n",
      "64\n",
      "66\n",
      "68\n",
      "70\n",
      "72\n",
      "74\n",
      "76\n",
      "78\n",
      "80\n",
      "82\n",
      "84\n",
      "86\n",
      "88\n",
      "90\n",
      "92\n",
      "94\n",
      "96\n",
      "98\n",
      "100\n"
     ]
    }
   ],
   "source": [
    "##2A CTD Create a while loop that will count by 2's starting with 0 and ending at 100. \n",
    "##Follow each number with a new line.\n",
    "i = 0\n",
    "while i <= 100:\n",
    "    print(i)\n",
    "    i += 2\n",
    "    "
   ]
  },
  {
   "cell_type": "code",
   "execution_count": 32,
   "metadata": {},
   "outputs": [
    {
     "name": "stdout",
     "output_type": "stream",
     "text": [
      "100\n",
      "95\n",
      "90\n",
      "85\n",
      "80\n",
      "75\n",
      "70\n",
      "65\n",
      "60\n",
      "55\n",
      "50\n",
      "45\n",
      "40\n",
      "35\n",
      "30\n",
      "25\n",
      "20\n",
      "15\n",
      "10\n",
      "5\n",
      "0\n",
      "-5\n",
      "-10\n"
     ]
    }
   ],
   "source": [
    "#Alter your loop to count backwards by 5's from 100 to -10.\n",
    "\n",
    "i = 100\n",
    "while i >= -10:\n",
    "    print(i)\n",
    "    i -= 5\n"
   ]
  },
  {
   "cell_type": "code",
   "execution_count": 54,
   "metadata": {},
   "outputs": [
    {
     "name": "stdout",
     "output_type": "stream",
     "text": [
      "4\n",
      "9\n",
      "16\n",
      "25\n",
      "36\n",
      "49\n",
      "64\n",
      "81\n",
      "100\n"
     ]
    }
   ],
   "source": [
    "##Create a while loop that starts at 2, and displays the number squared on each line\n",
    "##less than 1000000\n",
    "i = 2\n",
    "while i <= 10:\n",
    "    print(i * i)\n",
    "    i += 1\n"
   ]
  },
  {
   "cell_type": "code",
   "execution_count": 5,
   "metadata": {},
   "outputs": [
    {
     "name": "stdout",
     "output_type": "stream",
     "text": [
      "100\n",
      "95\n",
      "90\n",
      "85\n",
      "80\n",
      "75\n",
      "70\n",
      "65\n",
      "60\n",
      "55\n",
      "50\n",
      "45\n",
      "40\n",
      "35\n",
      "30\n",
      "25\n",
      "20\n",
      "15\n",
      "10\n",
      "5\n",
      "None\n"
     ]
    }
   ],
   "source": [
    "#Write a loop that uses print to create the output shown below.\n",
    "def minus5():\n",
    "    i = 100\n",
    "    while i >= 5:\n",
    "        print(i)\n",
    "        i -= 5\n",
    "print(minus5())\n"
   ]
  },
  {
   "cell_type": "code",
   "execution_count": 8,
   "metadata": {},
   "outputs": [
    {
     "name": "stdout",
     "output_type": "stream",
     "text": [
      "Hurry up, Pick a number, ANY number: 7\n",
      "7 X 1 = 7\n",
      "7 X 2 = 14\n",
      "7 X 3 = 21\n",
      "7 X 4 = 28\n",
      "7 X 5 = 35\n",
      "7 X 6 = 42\n",
      "7 X 7 = 49\n",
      "7 X 8 = 56\n",
      "7 X 9 = 63\n",
      "7 X 10 = 70\n"
     ]
    }
   ],
   "source": [
    "#B Write some code that prompts the user for a number, then shows \n",
    "#a multiplication table up through 10 for that number.\n",
    "num = int(input(\"Hurry up, Pick a number, ANY number: \"))\n",
    "\n",
    "for i in range(1, 11):\n",
    "   print(num,\"X\",i,\"=\",num * i)"
   ]
  },
  {
   "cell_type": "code",
   "execution_count": 7,
   "metadata": {},
   "outputs": [
    {
     "name": "stdout",
     "output_type": "stream",
     "text": [
      "\r\n",
      "1\r\n",
      "22\r\n",
      "333\r\n",
      "4444\r\n",
      "55555\r\n",
      "666666\r\n",
      "7777777\r\n",
      "88888888\r\n",
      "999999999\r\n"
     ]
    }
   ],
   "source": [
    "#Create a for loop that uses print to create the output shown below.\n",
    "n=9\n",
    "for num in range(n+1):\n",
    "    for i in range (num):\n",
    "        print(num,end=\"\")\n",
    "    print(\"\\r\")"
   ]
  },
  {
   "cell_type": "code",
   "execution_count": null,
   "metadata": {},
   "outputs": [],
   "source": [
    "#C Prompt the user for an odd number between 1 and 50. Use a loop and a break \n",
    "#statement to continue prompting the user if they enter invalid input. \n",
    "#(Hint: use the isdigit method on strings to determine this). Use a \n",
    "#loop and the continue statement to output all the odd numbers between \n",
    "#1 and 50, except for the number the user entered\n"
   ]
  }
 ],
 "metadata": {
  "kernelspec": {
   "display_name": "Python 3",
   "language": "python",
   "name": "python3"
  },
  "language_info": {
   "codemirror_mode": {
    "name": "ipython",
    "version": 3
   },
   "file_extension": ".py",
   "mimetype": "text/x-python",
   "name": "python",
   "nbconvert_exporter": "python",
   "pygments_lexer": "ipython3",
   "version": "3.7.6"
  }
 },
 "nbformat": 4,
 "nbformat_minor": 4
}
